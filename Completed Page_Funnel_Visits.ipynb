{
 "cells": [
  {
   "cell_type": "code",
   "execution_count": 15,
   "metadata": {},
   "outputs": [],
   "source": [
    "import pandas as pd"
   ]
  },
  {
   "cell_type": "markdown",
   "metadata": {},
   "source": [
    "Import all the files"
   ]
  },
  {
   "cell_type": "code",
   "execution_count": 16,
   "metadata": {},
   "outputs": [],
   "source": [
    "visits = pd.read_csv('visits.csv',\n",
    "                     parse_dates=[1])\n",
    "cart = pd.read_csv('cart.csv',\n",
    "                   parse_dates=[1])\n",
    "                   \n",
    "checkout = pd.read_csv('checkout.csv',\n",
    "                       parse_dates=[1])\n",
    "purchase = pd.read_csv('purchase.csv',\n",
    "                       parse_dates=[1])"
   ]
  },
  {
   "cell_type": "markdown",
   "metadata": {},
   "source": [
    "Step 1: Inspect the DataFrames using `print` and `head`"
   ]
  },
  {
   "cell_type": "code",
   "execution_count": 17,
   "metadata": {},
   "outputs": [
    {
     "name": "stdout",
     "output_type": "stream",
     "text": [
      "                                user_id          visit_time\n",
      "0  943647ef-3682-4750-a2e1-918ba6f16188 2017-04-07 15:14:00\n",
      "1  0c3a3dd0-fb64-4eac-bf84-ba069ce409f2 2017-01-26 14:24:00\n",
      "2  6e0b2d60-4027-4d9a-babd-0e7d40859fb1 2017-08-20 08:23:00\n",
      "3  6879527e-c5a6-4d14-b2da-50b85212b0ab 2017-11-04 18:15:00\n",
      "4  a84327ff-5daa-4ba1-b789-d5b4caf81e96 2017-02-27 11:25:00\n",
      "                                user_id           cart_time\n",
      "0  2be90e7c-9cca-44e0-bcc5-124b945ff168 2017-11-07 20:45:00\n",
      "1  4397f73f-1da3-4ab3-91af-762792e25973 2017-05-27 01:35:00\n",
      "2  a9db3d4b-0a0a-4398-a55a-ebb2c7adf663 2017-03-04 10:38:00\n",
      "3  b594862a-36c5-47d5-b818-6e9512b939b3 2017-09-27 08:22:00\n",
      "4  a68a16e2-94f0-4ce8-8ce3-784af0bbb974 2017-07-26 15:48:00\n",
      "                                user_id       checkout_time\n",
      "0  d33bdc47-4afa-45bc-b4e4-dbe948e34c0d 2017-06-25 09:29:00\n",
      "1  4ac186f0-9954-4fea-8a27-c081e428e34e 2017-04-07 20:11:00\n",
      "2  3c9c78a7-124a-4b77-8d2e-e1926e011e7d 2017-07-13 11:38:00\n",
      "3  89fe330a-8966-4756-8f7c-3bdbcd47279a 2017-04-20 16:15:00\n",
      "4  3ccdaf69-2d30-40de-b083-51372881aedd 2017-01-08 20:52:00\n",
      "                                user_id       purchase_time\n",
      "0  4b44ace4-2721-47a0-b24b-15fbfa2abf85 2017-05-11 04:25:00\n",
      "1  02e684ae-a448-408f-a9ff-dcb4a5c99aac 2017-09-05 08:45:00\n",
      "2  4b4bc391-749e-4b90-ab8f-4f6e3c84d6dc 2017-11-20 20:49:00\n",
      "3  a5dbb25f-3c36-4103-9030-9f7c6241cd8d 2017-01-22 15:18:00\n",
      "4  46a3186d-7f5a-4ab9-87af-84d05bfd4867 2017-06-11 11:32:00\n"
     ]
    }
   ],
   "source": [
    "print(visits.head(5))\n",
    "print(cart.head(5))\n",
    "print(checkout.head(5))\n",
    "print(purchase.head(5))"
   ]
  },
  {
   "cell_type": "markdown",
   "metadata": {},
   "source": [
    "Step 2: Left merging visits and cart"
   ]
  },
  {
   "cell_type": "code",
   "execution_count": 18,
   "metadata": {},
   "outputs": [],
   "source": [
    "#Data merges on user_id columns\n",
    "visit_cart_left_merge = pd.merge(visits, cart, how='left')"
   ]
  },
  {
   "cell_type": "markdown",
   "metadata": {},
   "source": [
    "Step 3: How long is `visits_cart`?"
   ]
  },
  {
   "cell_type": "code",
   "execution_count": 98,
   "metadata": {},
   "outputs": [],
   "source": [
    "total_visits = len(visit_cart_left_merge)\n",
    "#print(total_visits)"
   ]
  },
  {
   "cell_type": "markdown",
   "metadata": {},
   "source": [
    "Step 4: How many timestamps are null for `cart_time`?"
   ]
  },
  {
   "cell_type": "code",
   "execution_count": 97,
   "metadata": {},
   "outputs": [
    {
     "name": "stdout",
     "output_type": "stream",
     "text": [
      "1652\n"
     ]
    }
   ],
   "source": [
    "#number of null time stamps\n",
    "null_cart_time = len(visit_cart_left_merge[visit_cart_left_merge.cart_time.isnull()])\n",
    "print(null_cart_time)"
   ]
  },
  {
   "cell_type": "markdown",
   "metadata": {},
   "source": [
    "Step 5: What percentage only visited?"
   ]
  },
  {
   "cell_type": "code",
   "execution_count": 99,
   "metadata": {},
   "outputs": [
    {
     "name": "stdout",
     "output_type": "stream",
     "text": [
      "82.6\n"
     ]
    }
   ],
   "source": [
    "#what percent of people only visited\n",
    "num_only_visited = null_cart_time / total_visits * 100\n",
    "print(num_only_visited)"
   ]
  },
  {
   "cell_type": "markdown",
   "metadata": {},
   "source": [
    "Step 6: What percentage placed a t-shirt in their cart but did not checkout?"
   ]
  },
  {
   "cell_type": "code",
   "execution_count": 100,
   "metadata": {},
   "outputs": [
    {
     "name": "stdout",
     "output_type": "stream",
     "text": [
      "user_id          348\n",
      "cart_time        348\n",
      "checkout_time    226\n",
      "dtype: int64\n",
      "35.06 %\n"
     ]
    }
   ],
   "source": [
    "#left merge cart and checkout\n",
    "cart_to_checkout = pd.merge(cart,checkout, how='left')\n",
    "print(cart_to_checkout.count())\n",
    "\n",
    "#how many people didn't check out with items in their carts\n",
    "didnt_check_out = len(cart_to_checkout[cart_to_checkout.checkout_time.isnull()])\n",
    "\n",
    "#how many people have an active cart\n",
    "active_cart = len(cart_to_checkout.cart_time)\n",
    "\n",
    "#find the percentage of people that did not check out with active carts\n",
    "percent_not_checkout = (didnt_check_out/active_cart) * 100\n",
    "percent_not_checkout = round(percent_not_checkout, 2)\n",
    "print(percent_not_checkout,'%')"
   ]
  },
  {
   "cell_type": "markdown",
   "metadata": {},
   "source": [
    "Step 7: Merge it all together"
   ]
  },
  {
   "cell_type": "code",
   "execution_count": 95,
   "metadata": {},
   "outputs": [
    {
     "name": "stdout",
     "output_type": "stream",
     "text": [
      "user_id          2108\n",
      "visit_time       2108\n",
      "cart_time         456\n",
      "checkout_time     334\n",
      "purchase_time     252\n",
      "dtype: int64\n"
     ]
    }
   ],
   "source": [
    "all_data = visit_cart_left_merge\\\n",
    "    .merge(cart_to_checkout, how='left')\\\n",
    "    .merge(purchase, how='left')\n",
    "print(all_data.count())"
   ]
  },
  {
   "cell_type": "markdown",
   "metadata": {},
   "source": [
    "Step 8: % of users who got to checkout but did not purchase"
   ]
  },
  {
   "cell_type": "code",
   "execution_count": 65,
   "metadata": {},
   "outputs": [
    {
     "name": "stdout",
     "output_type": "stream",
     "text": [
      "24.55\n"
     ]
    }
   ],
   "source": [
    "#number of people who checked out\n",
    "num_checked_out = all_data.checkout_time.count()\n",
    "#334\n",
    "\n",
    "#number who purchased\n",
    "num_purchased = all_data.purchase_time.count()\n",
    "#252\n",
    "\n",
    "num_not_purchase = num_checked_out - num_purchased\n",
    "#82\n",
    "\n",
    "#I've relized that I could've done this instead to reduce the amount of lines.\n",
    "##  num_not_purchase = len(all_data[all_data.purchase_time.isnull()])\n",
    "\n",
    "\n",
    "perc_not_purchase = num_not_purchase/num_checked_out * 100\n",
    "perc_not_purchase = round(perc_not_purchase, 2)\n",
    "print(perc_not_purchase)\n"
   ]
  },
  {
   "cell_type": "markdown",
   "metadata": {},
   "source": [
    "Step 9: check each part of the funnel, let's print all 3 of them again"
   ]
  },
  {
   "cell_type": "code",
   "execution_count": 102,
   "metadata": {},
   "outputs": [
    {
     "name": "stdout",
     "output_type": "stream",
     "text": [
      "82.6 percent of users who visited the page did not add anything to their cart\n",
      "35.06 percent of users added to their cart but didn't check out\n",
      "24.55 percent of users who made it to checkout but didn't purchase anything\n"
     ]
    }
   ],
   "source": [
    "print(\"{} percent of users who visited the page did not add anything to their cart\".format(num_only_visited))\n",
    "print(\"{} percent of users added to their cart but didn't check out\".format(percent_not_checkout))\n",
    "print(\"{} percent of users who made it to checkout but didn't purchase anything\".format(perc_not_purchase))"
   ]
  },
  {
   "cell_type": "markdown",
   "metadata": {},
   "source": [
    "*The weakest part of the funnel is clearly getting a person who visited the site to add a tshirt to their cart. Once they've added a t-shirt to their cart it is fairly likely they end up purchasing it. A suggestion could be to make the add-to-cart button more prominent on the front page.*\n",
    "\n",
    "\n",
    "Step 10: adding new column"
   ]
  },
  {
   "cell_type": "code",
   "execution_count": 104,
   "metadata": {},
   "outputs": [],
   "source": [
    "all_data['time_to_purchase'] = \\\n",
    "    all_data.purchase_time - all_data.visit_time"
   ]
  },
  {
   "cell_type": "markdown",
   "metadata": {},
   "source": [
    "Step 11: examine the results"
   ]
  },
  {
   "cell_type": "code",
   "execution_count": 107,
   "metadata": {},
   "outputs": [
    {
     "name": "stdout",
     "output_type": "stream",
     "text": [
      "                                 user_id          visit_time  \\\n",
      "1   0c3a3dd0-fb64-4eac-bf84-ba069ce409f2 2017-01-26 14:24:00   \n",
      "14  486480e2-98c3-4d51-8f4b-b1c07228ce84 2017-01-27 16:34:00   \n",
      "48  3ccdaf69-2d30-40de-b083-51372881aedd 2017-01-08 20:21:00   \n",
      "49  3ccdaf69-2d30-40de-b083-51372881aedd 2017-01-08 20:21:00   \n",
      "65  ab0125fc-9493-4f59-ad70-24ad264a3a0c 2017-11-18 03:21:00   \n",
      "\n",
      "             cart_time       checkout_time       purchase_time  \\\n",
      "1  2017-01-26 14:44:00 2017-01-26 14:54:00 2017-01-26 15:08:00   \n",
      "14 2017-01-27 16:44:00 2017-01-27 17:10:00 2017-01-27 17:12:00   \n",
      "48 2017-01-08 20:38:00 2017-01-08 20:52:00 2017-01-08 21:02:00   \n",
      "49 2017-01-08 20:38:00 2017-01-08 20:52:00 2017-01-08 21:21:00   \n",
      "65 2017-11-18 03:33:00 2017-11-18 03:57:00 2017-11-18 04:21:00   \n",
      "\n",
      "   time_to_purchase  \n",
      "1   0 days 00:44:00  \n",
      "14  0 days 00:38:00  \n",
      "48  0 days 00:41:00  \n",
      "49  0 days 01:00:00  \n",
      "65  0 days 01:00:00  \n"
     ]
    }
   ],
   "source": [
    "print(all_data[~all_data.time_to_purchase.isnull()].head(5))"
   ]
  },
  {
   "cell_type": "markdown",
   "metadata": {},
   "source": [
    "Step 12: average time to purchase"
   ]
  },
  {
   "cell_type": "code",
   "execution_count": 108,
   "metadata": {},
   "outputs": [],
   "source": [
    "avg_purchase_time = all_data.time_to_purchase.mean()"
   ]
  },
  {
   "cell_type": "code",
   "execution_count": 109,
   "metadata": {},
   "outputs": [
    {
     "name": "stdout",
     "output_type": "stream",
     "text": [
      "0 days 00:43:12.380952380\n"
     ]
    }
   ],
   "source": [
    "print(avg_purchase_time)"
   ]
  }
 ],
 "metadata": {
  "kernelspec": {
   "display_name": "Python 3",
   "language": "python",
   "name": "python3"
  },
  "language_info": {
   "codemirror_mode": {
    "name": "ipython",
    "version": 3
   },
   "file_extension": ".py",
   "mimetype": "text/x-python",
   "name": "python",
   "nbconvert_exporter": "python",
   "pygments_lexer": "ipython3",
   "version": "3.10.9"
  }
 },
 "nbformat": 4,
 "nbformat_minor": 4
}
